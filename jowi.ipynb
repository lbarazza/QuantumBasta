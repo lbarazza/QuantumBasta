{
 "cells": [
  {
   "cell_type": "code",
   "execution_count": 1,
   "metadata": {},
   "outputs": [],
   "source": [
    "import pennylane as qml"
   ]
  },
  {
   "cell_type": "markdown",
   "metadata": {},
   "source": [
    "### Encoding Method"
   ]
  },
  {
   "cell_type": "code",
   "execution_count": 2,
   "metadata": {},
   "outputs": [],
   "source": [
    "# Encode indices with the specified rule\n",
    "def encode_indices(p, m, j):\n",
    "    if p not in {1, -1}:\n",
    "        raise ValueError(\"p must be either 1 or -1.\")\n",
    "    if m == 0 or not (-j <= m <= j):\n",
    "        raise ValueError(f\"m must be in the range +/-1, +/-2, ..., +/-j, but got m={m} and j={j}.\")\n",
    "\n",
    "    if m > 0:\n",
    "        k = j - m\n",
    "    else:\n",
    "        k = j - m - 1 # shift by one because m can't be 0\n",
    "\n",
    "    if p == -1:\n",
    "        k += 2 * j\n",
    "\n",
    "    return k\n",
    "\n",
    "# Decode a single index back into multi-indices (p, m, j)\n",
    "def decode_index(k, j):\n",
    "    if k < 0 or k >= 4 * j:\n",
    "        raise ValueError(f\"k={k} is out of valid range for j={j}.\")\n",
    "\n",
    "    # Determine p based on the range of k\n",
    "    p = 1 if k < 2 * j else -1\n",
    "\n",
    "    # Adjust k for p = -1\n",
    "    k_adjusted = k if p == 1 else k - 2 * j\n",
    "\n",
    "    # Determine m\n",
    "    m = j - k_adjusted if k_adjusted < j else j - (k_adjusted + 1) # inverse of the encoding line in encode_indices\n",
    "\n",
    "    return p, m"
   ]
  },
  {
   "cell_type": "markdown",
   "metadata": {},
   "source": [
    "### Test Encoding"
   ]
  },
  {
   "cell_type": "code",
   "execution_count": 3,
   "metadata": {},
   "outputs": [
    {
     "name": "stdout",
     "output_type": "stream",
     "text": [
      "Original indices: p=1, m=2\n",
      "Decoded indices:  p=1, m=2\n",
      "Encoded index:    k=0\n",
      "\n",
      "Original indices: p=1, m=1\n",
      "Decoded indices:  p=1, m=1\n",
      "Encoded index:    k=1\n",
      "\n",
      "Original indices: p=1, m=-1\n",
      "Decoded indices:  p=1, m=-1\n",
      "Encoded index:    k=2\n",
      "\n",
      "Original indices: p=1, m=-2\n",
      "Decoded indices:  p=1, m=-2\n",
      "Encoded index:    k=3\n",
      "\n",
      "Original indices: p=-1, m=2\n",
      "Decoded indices:  p=-1, m=2\n",
      "Encoded index:    k=4\n",
      "\n",
      "Original indices: p=-1, m=1\n",
      "Decoded indices:  p=-1, m=1\n",
      "Encoded index:    k=5\n",
      "\n",
      "Original indices: p=-1, m=-1\n",
      "Decoded indices:  p=-1, m=-1\n",
      "Encoded index:    k=6\n",
      "\n",
      "Original indices: p=-1, m=-2\n",
      "Decoded indices:  p=-1, m=-2\n",
      "Encoded index:    k=7\n",
      "\n"
     ]
    }
   ],
   "source": [
    "j = 2\n",
    "for p in [1, -1]:\n",
    "    for m in range(j, -j-1, -1):\n",
    "        if m == 0: continue\n",
    "\n",
    "        k = encode_indices(p, m, j)\n",
    "        p_, m_ = decode_index(k, j)\n",
    "\n",
    "        print(\"Original indices: p={}, m={}\".format(p, m, j))\n",
    "        print(\"Decoded indices:  p={}, m={}\".format(p_, m_))\n",
    "        print(\"Encoded index:    k={}\".format(k))\n",
    "        print()"
   ]
  },
  {
   "cell_type": "markdown",
   "metadata": {},
   "source": [
    "### Hamiltonian"
   ]
  },
  {
   "cell_type": "code",
   "execution_count": 4,
   "metadata": {},
   "outputs": [
    {
     "name": "stdout",
     "output_type": "stream",
     "text": [
      "Second quantization Hamiltonian:\n",
      "-0.2 * a⁺(2) a⁺(3) a(3) a(2)\n",
      "+ -0.0 * a⁺(2) a⁺(3)\n",
      "+ -0.0 * a(3) a(2)\n",
      "+ 0.0 * I\n",
      "+ -0.2 * a⁺(2) a⁺(3) a(1) a(0)\n",
      "+ -0.0 * a(1) a(0)\n",
      "+ -0.2 * a⁺(0) a⁺(1) a(3) a(2)\n",
      "+ -0.0 * a⁺(0) a⁺(1)\n",
      "+ -0.2 * a⁺(0) a⁺(1) a(1) a(0)\n",
      "+ 0.05 * a⁺(0) a(0)\n",
      "+ -0.05 * a⁺(2) a(2)\n",
      "+ 0.05 * a⁺(1) a(1)\n",
      "+ -0.05 * a⁺(3) a(3)\n",
      "+ -0.5 * a⁺(0) a(2) a⁺(0) a(2)\n",
      "+ 0.0 * a⁺(0) a(2)\n",
      "+ -0.5 * a⁺(0) a(2) a⁺(1) a(3)\n",
      "+ 0.0 * a⁺(1) a(3)\n",
      "+ -0.5 * a⁺(1) a(3) a⁺(0) a(2)\n",
      "+ -0.5 * a⁺(1) a(3) a⁺(1) a(3)\n",
      "+ -0.5 * a⁺(2) a(0) a⁺(2) a(0)\n",
      "+ 0.0 * a⁺(2) a(0)\n",
      "+ -0.5 * a⁺(2) a(0) a⁺(3) a(1)\n",
      "+ 0.0 * a⁺(3) a(1)\n",
      "+ -0.5 * a⁺(3) a(1) a⁺(2) a(0)\n",
      "+ -0.5 * a⁺(3) a(1) a⁺(3) a(1)\n",
      "\n",
      "Jordan-Wigner Hamiltonian:\n",
      "(-0.1+0j) * I\n",
      "+ (0.07500000000000001+0j) * Z(2)\n",
      "+ (0.07500000000000001+0j) * Z(3)\n",
      "+ (-0.05+0j) * Z(2) @ Z(3)\n",
      "+ (-0.15+0j) * Y(2) @ X(3) @ Y(0) @ X(1)\n",
      "+ (-0.15+0j) * Y(2) @ X(3) @ X(0) @ Y(1)\n",
      "+ (0.15+0j) * Y(2) @ Y(3) @ X(0) @ X(1)\n",
      "+ (-0.15+0j) * Y(2) @ Y(3) @ Y(0) @ Y(1)\n",
      "+ (-0.15+0j) * X(2) @ X(3) @ X(0) @ X(1)\n",
      "+ (0.15+0j) * X(2) @ X(3) @ Y(0) @ Y(1)\n",
      "+ (-0.15+0j) * X(2) @ Y(3) @ Y(0) @ X(1)\n",
      "+ (-0.15+0j) * X(2) @ Y(3) @ X(0) @ Y(1)\n",
      "+ (0.025+0j) * Z(0)\n",
      "+ (0.025+0j) * Z(1)\n",
      "+ (-0.05+0j) * Z(0) @ Z(1)\n",
      "\n"
     ]
    }
   ],
   "source": [
    "# Annihilation operator\n",
    "def C(p, m, j):\n",
    "    return qml.FermiA(encode_indices(p, m, j))\n",
    "\n",
    "# Creation operator\n",
    "def C_dag(p, m, j):\n",
    "    return qml.FermiC(encode_indices(p, m, j))\n",
    "\n",
    "# Agassi Hamiltonian\n",
    "def agassi_hamiltonian(j, eps=1.0, g=1.0, V=1.0):\n",
    "    \n",
    "    # J0 term\n",
    "    J0 = 0\n",
    "    for m in range(j, -j-1, -1):\n",
    "        if m == 0: continue\n",
    "        J0 += C_dag(1, m, j) * C(1, m, j) - C_dag(-1, m, j) * C(-1, m, j)\n",
    "    J0 *= 0.5\n",
    "\n",
    "    # J+ and J- term\n",
    "    J_plus = 0\n",
    "    J_minus = 0\n",
    "    for m in range(j, -j-1, -1):\n",
    "        if m == 0: continue\n",
    "        J_plus  += C_dag(1, m, j) * C(-1, m, j)\n",
    "        J_minus += C_dag(-1, m, j) * C(1, m, j)\n",
    "\n",
    "    # A_i terms\n",
    "    \n",
    "    def A_dag(p, j):\n",
    "        res = 0\n",
    "        # unlike the previous loops here we go from m=0 to m=j-1 (m=1 to m=j in the paper)\n",
    "        for m in range(0, j+1):\n",
    "            if m == 0: continue\n",
    "            res += C_dag(p, m, j) * C_dag(p, -m, j)\n",
    "        return res\n",
    "    \n",
    "    def A(p, j):\n",
    "        res = 0\n",
    "        # unlike the previous loops here we go from m=0 to m=j-1 (m=1 to m=j in the paper)\n",
    "        for m in range(0, j+1):\n",
    "            if m == 0: continue\n",
    "            res += C(p, -m, j) * C(p, m, j)\n",
    "        return res\n",
    "\n",
    "    A_terms = 0\n",
    "    for p in [-1, 1]:\n",
    "        for p_ in [-1, 1]:\n",
    "            A_terms += A_dag(p, j) * A(p_, j)\n",
    "\n",
    "    # Hamiltonian\n",
    "    H = eps * J0 - g * A_terms - V/2 * (J_plus * J_plus + J_minus * J_minus)\n",
    "\n",
    "    return H\n",
    "\n",
    "H_sec = agassi_hamiltonian(1, eps=0.1, g=0.2, V=1.0)\n",
    "print(\"Second quantization Hamiltonian:\")\n",
    "print(H_sec)\n",
    "print()\n",
    "\n",
    "H_ps = qml.jordan_wigner(H_sec, ps=True)\n",
    "# H = H.simplify()\n",
    "print(\"Jordan-Wigner Hamiltonian:\")\n",
    "print(H_ps)\n",
    "print()\n"
   ]
  },
  {
   "cell_type": "code",
   "execution_count": 5,
   "metadata": {},
   "outputs": [],
   "source": [
    "def split_pauli_sentence_by_operators(ps):\n",
    "    \"\"\"\n",
    "    Splits a Pauli sentence into different Pauli sentences, each composed of \n",
    "    Pauli words with the same number of operators.\n",
    "\n",
    "    Args:\n",
    "        ps (PauliSentence): The input Pauli sentence.\n",
    "\n",
    "    Returns:\n",
    "        dict: A dictionary where the keys are the number of operators, and \n",
    "              the values are Pauli sentences containing words with that number of operators.\n",
    "    \"\"\"\n",
    "\n",
    "    # Dictionary to store split Pauli sentences\n",
    "    split_sentences = {}\n",
    "\n",
    "    for pauli_word, coefficient in ps.items():\n",
    "        # Determine the number of operators in the PauliWord\n",
    "        num_operators = len(pauli_word)\n",
    "\n",
    "        # If this number is not already in the dictionary, initialize a new PauliSentence\n",
    "        if num_operators not in split_sentences:\n",
    "            split_sentences[num_operators] = qml.pauli.PauliSentence()\n",
    "\n",
    "        # Add the current PauliWord to the corresponding PauliSentence\n",
    "        split_sentences[num_operators][pauli_word] = coefficient\n",
    "\n",
    "    return split_sentences"
   ]
  },
  {
   "cell_type": "code",
   "execution_count": 6,
   "metadata": {},
   "outputs": [
    {
     "name": "stdout",
     "output_type": "stream",
     "text": [
      "Pauli words with 0 operators:\n",
      "(-0.1+0j) * I\n",
      "\n",
      "Pauli words with 1 operators:\n",
      "(0.07500000000000001+0j) * Z(2)\n",
      "+ (0.07500000000000001+0j) * Z(3)\n",
      "+ (0.025+0j) * Z(0)\n",
      "+ (0.025+0j) * Z(1)\n",
      "\n",
      "Pauli words with 2 operators:\n",
      "(-0.05+0j) * Z(2) @ Z(3)\n",
      "+ (-0.05+0j) * Z(0) @ Z(1)\n",
      "\n",
      "Pauli words with 4 operators:\n",
      "(-0.15+0j) * Y(2) @ X(3) @ Y(0) @ X(1)\n",
      "+ (-0.15+0j) * Y(2) @ X(3) @ X(0) @ Y(1)\n",
      "+ (0.15+0j) * Y(2) @ Y(3) @ X(0) @ X(1)\n",
      "+ (-0.15+0j) * Y(2) @ Y(3) @ Y(0) @ Y(1)\n",
      "+ (-0.15+0j) * X(2) @ X(3) @ X(0) @ X(1)\n",
      "+ (0.15+0j) * X(2) @ X(3) @ Y(0) @ Y(1)\n",
      "+ (-0.15+0j) * X(2) @ Y(3) @ Y(0) @ X(1)\n",
      "+ (-0.15+0j) * X(2) @ Y(3) @ X(0) @ Y(1)\n",
      "\n"
     ]
    }
   ],
   "source": [
    "# Split the PauliSentence\n",
    "split_result = split_pauli_sentence_by_operators(H_ps)\n",
    "\n",
    "# Display the result\n",
    "for num_ops, sentence in split_result.items():\n",
    "    print(f\"Pauli words with {num_ops} operators:\")\n",
    "    print(sentence)\n",
    "    print()"
   ]
  },
  {
   "cell_type": "markdown",
   "metadata": {},
   "source": [
    "### Automatically Calculate Commutators"
   ]
  },
  {
   "cell_type": "code",
   "execution_count": 7,
   "metadata": {},
   "outputs": [
    {
     "name": "stdout",
     "output_type": "stream",
     "text": [
      "Pauli sentences with 0 and 1 operators commute.\n",
      "Pauli sentences with 0 and 2 operators commute.\n",
      "Pauli sentences with 0 and 4 operators commute.\n",
      "Pauli sentences with 1 and 2 operators commute.\n",
      "Pauli sentences with 1 and 4 operators do NOT commute.\n",
      "Pauli sentences with 2 and 4 operators commute.\n"
     ]
    }
   ],
   "source": [
    "\n",
    "from itertools import combinations\n",
    "from pennylane.pauli import PauliSentence\n",
    "\n",
    "# Iterate over all pairs of PauliSentences from split_result and test commutativity\n",
    "for (num_ops1, ps1), (num_ops2, ps2) in combinations(split_result.items(), 2):\n",
    "    # Compute their commutator\n",
    "    comm = ps1.commutator(ps2)\n",
    "\n",
    "    # Check if they commute\n",
    "    if len(comm) == 0:\n",
    "        print(f\"Pauli sentences with {num_ops1} and {num_ops2} operators commute.\")\n",
    "    else:\n",
    "        print(f\"Pauli sentences with {num_ops1} and {num_ops2} operators do NOT commute.\")"
   ]
  },
  {
   "cell_type": "code",
   "execution_count": null,
   "metadata": {},
   "outputs": [],
   "source": []
  }
 ],
 "metadata": {
  "kernelspec": {
   "display_name": "qubasta",
   "language": "python",
   "name": "python3"
  },
  "language_info": {
   "codemirror_mode": {
    "name": "ipython",
    "version": 3
   },
   "file_extension": ".py",
   "mimetype": "text/x-python",
   "name": "python",
   "nbconvert_exporter": "python",
   "pygments_lexer": "ipython3",
   "version": "3.11.8"
  }
 },
 "nbformat": 4,
 "nbformat_minor": 2
}
